{
 "cells": [
  {
   "cell_type": "markdown",
   "metadata": {},
   "source": [
    "enumerate() method: "
   ]
  },
  {
   "cell_type": "code",
   "execution_count": null,
   "metadata": {},
   "outputs": [],
   "source": [
    "str1 = \"Howl's Moving Castle\"\n",
    "for index, character in enumerate(str1):\n",
    "    print(f\"Index: {index}, Character: '{character}'\")"
   ]
  },
  {
   "cell_type": "markdown",
   "metadata": {},
   "source": [
    "join() method:"
   ]
  },
  {
   "cell_type": "code",
   "execution_count": null,
   "metadata": {},
   "outputs": [],
   "source": [
    "some_list = ['Baa', 'baa', 'black', 'sheep']\n",
    "result = ' '.join(some_list)\n",
    "\n",
    "print(result)\n"
   ]
  },
  {
   "cell_type": "markdown",
   "metadata": {},
   "source": [
    "random() method:"
   ]
  },
  {
   "cell_type": "code",
   "execution_count": 12,
   "metadata": {},
   "outputs": [
    {
     "name": "stdout",
     "output_type": "stream",
     "text": [
      "sheep\n"
     ]
    }
   ],
   "source": [
    "import random\n",
    "\n",
    "some_list = ['Baa', 'baa', 'black', 'sheep']\n",
    "random_element = random.choice(some_list)\n",
    "\n",
    "print(random_element)"
   ]
  }
 ],
 "metadata": {
  "kernelspec": {
   "display_name": "Python 3",
   "language": "python",
   "name": "python3"
  },
  "language_info": {
   "codemirror_mode": {
    "name": "ipython",
    "version": 3
   },
   "file_extension": ".py",
   "mimetype": "text/x-python",
   "name": "python",
   "nbconvert_exporter": "python",
   "pygments_lexer": "ipython3",
   "version": "3.11.5"
  }
 },
 "nbformat": 4,
 "nbformat_minor": 2
}
